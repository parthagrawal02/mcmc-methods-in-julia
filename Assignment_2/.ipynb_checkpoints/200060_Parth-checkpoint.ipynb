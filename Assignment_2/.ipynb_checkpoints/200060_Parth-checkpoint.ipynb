{
 "cells": [
  {
   "cell_type": "code",
   "execution_count": 1,
   "metadata": {},
   "outputs": [],
   "source": [
    "using Random, Distributions"
   ]
  },
  {
   "cell_type": "code",
   "execution_count": null,
   "metadata": {},
   "outputs": [],
   "source": [
    "function trunc_nor(a)\n",
    "    \n",
    "    \n",
    "    while true\n",
    "        U = rand(Uniform(0,1))\n",
    "        X = rand(Normal()) # Draw Proposal\n",
    "\n",
    "        dbino = pdf(Binomial(n,p), X)\n",
    "        dpois = pdf(Normal(l),X)\n",
    "        \n",
    "        c = 1/(cdf(Normal(),a))\n",
    "        \n",
    "        ratio = dbino/(c*dpois)\n",
    "        \n",
    "        if U < ratio\n",
    "            return X\n",
    "        end\n",
    "    end\n",
    "\n"
   ]
  }
 ],
 "metadata": {
  "kernelspec": {
   "display_name": "Julia 1.7.2",
   "language": "julia",
   "name": "julia-1.7"
  },
  "language_info": {
   "file_extension": ".jl",
   "mimetype": "application/julia",
   "name": "julia",
   "version": "1.7.2"
  }
 },
 "nbformat": 4,
 "nbformat_minor": 4
}
